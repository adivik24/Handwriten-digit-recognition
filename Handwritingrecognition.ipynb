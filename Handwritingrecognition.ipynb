{
 "cells": [
  {
   "cell_type": "code",
   "execution_count": 1,
   "id": "34e4f129-7800-4534-9658-1a8a5cb4bb9c",
   "metadata": {},
   "outputs": [
    {
     "name": "stdout",
     "output_type": "stream",
     "text": [
      "Drawing started.\n",
      "Drawing stopped.\n",
      "Quitting... Predicting the digit.\n"
     ]
    },
    {
     "data": {
      "image/png": "[encoded data removed]",
      "text/plain": [
       "<Figure size 600x600 with 1 Axes>"
      ]
     },
     "metadata": {},
     "output_type": "display_data"
    }
   ],
   "source": [
    "import cv2\n",
    "import numpy as np\n",
    "import mediapipe as mp\n",
    "import matplotlib.pyplot as plt\n",
    "from sklearn.datasets import fetch_openml\n",
    "from sklearn.model_selection import train_test_split\n",
    "\n",
    "from sklearn.svm import SVC  \n",
    "\n",
    
    "mnist = fetch_openml('mnist_784', version=1, as_frame=False)\n",
    "X, y = mnist.data, mnist.target\n",
    "y = y.astype(int)\n",
    "X = X / 255.0 \n",
    "\n",
    "X_train, X_test, y_train, y_test = train_test_split(X, y, test_size=0.2, random_state=42)\n",
    "\n",

    "svm_model = SVC(kernel='linear', random_state=42)  \n",
    "svm_model.fit(X_train, y_train)\n",
    "mp_hands = mp.solutions.hands\n",
    "hands = mp_hands.Hands(min_detection_confidence=0.8, min_tracking_confidence=0.8, max_num_hands=1)\n",
    "mp_draw = mp.solutions.drawing_utils\n",
    "\n",

    "canvas = np.zeros((300, 300, 3), dtype=np.uint8)\n",
    "cap = cv2.VideoCapture(0)\n",
    "\n",
    "drawing = False\n",
    "prev_x, prev_y = None, None\n",
    "\n",
    "while cap.isOpened():\n",
    "    ret, frame = cap.read()\n",
    "    if not ret:\n",
    "        break\n",
    "\n",
    "    frame = cv2.flip(frame, 1)\n",
    "    h, w, _ = frame.shape\n",
    "\n",
   
    "    rgb_frame = cv2.cvtColor(frame, cv2.COLOR_BGR2RGB)\n",
    "    result = hands.process(rgb_frame)\n",
    "\n",
    "    if result.multi_hand_landmarks:\n",
    "        for hand_landmarks in result.multi_hand_landmarks:\n",
    "            x, y = int(hand_landmarks.landmark[8].x * w), int(hand_landmarks.landmark[8].y * h)\n",
    "\n",
    "            canvas_x = int(x * (300 / w))\n",
    "            canvas_y = int(y * (300 / h))\n",
    "\n",
    "            cv2.circle(frame, (x, y), 8, (0, 255, 0), -1)\n",
    "\n",

    "            if drawing:\n",
    "                if prev_x is not None and prev_y is not None:\n",
    "                    cv2.line(canvas, (prev_x, prev_y), (canvas_x, canvas_y), (255, 255, 255), 10)\n",
    "                prev_x, prev_y = canvas_x, canvas_y\n",
    "            else:\n",
    "                prev_x, prev_y = None, None\n",
    "\n",
    "            mp_draw.draw_landmarks(frame, hand_landmarks, mp_hands.HAND_CONNECTIONS)\n",
    "\n",

    "    cv2.putText(frame, \"Press 'S' to Start, 'E' to Stop, 'Q' to Predict\", (10, 30),\n",
    "                cv2.FONT_HERSHEY_SIMPLEX, 0.7, (0, 255, 0), 2)\n",
    "\n",
    "    cv2.imshow(\"Air Writing\", frame)\n",
    "    cv2.imshow(\"Canvas\", canvas)\n",
    "\n",
    "    key = cv2.waitKey(1) & 0xFF\n",
    "    if key == ord('s'):\n",
    "        drawing = True\n",
    "        print(\"Drawing started.\")\n",
    "    elif key == ord('e'):\n",
    "        drawing = False\n",
    "        print(\"Drawing stopped.\")\n",
    "    elif key == ord('q'): \n",
    "        print(\"Quitting... Predicting the digit.\")\n",
    "        break\n",
    "\n",
    "cap.release()\n",
    "cv2.destroyAllWindows()\n",
    "\n",

    "canvas_gray = cv2.cvtColor(canvas, cv2.COLOR_BGR2GRAY)\n",
    "\n",

    "scale_factor = 1.5 \n",
    "canvas_gray = np.clip(canvas_gray.astype(float) * scale_factor, 0, 255).astype(np.uint8)\n",
    "\n",

    "_, thresh = cv2.threshold(canvas_gray, 127, 255, cv2.THRESH_BINARY_INV) \n",
    "contours, _ = cv2.findContours(thresh, cv2.RETR_EXTERNAL, cv2.CHAIN_APPROX_SIMPLE)\n",
    "\n",
    "if contours:\n",

    "    x, y, w, h = cv2.boundingRect(max(contours, key=cv2.contourArea))\n",
    "\n",

    "    padding = 10  \n",
    "    x = max(0, x - padding)\n",
    "    y = max(0, y - padding)\n",
    "    w = min(canvas_gray.shape[1] - x, w + 2 * padding)\n",
    "    h = min(canvas_gray.shape[0] - y, h + 2 * padding)\n",
    "\n",

    "    cropped = canvas_gray[y:y+h, x:x+w]\n",
    "\n",

    "    if h > w:\n",
    "        resized = cv2.resize(cropped, (int(28 * w / h), 28), interpolation=cv2.INTER_AREA)\n",
    "    else:\n",
    "        resized = cv2.resize(cropped, (28, int(28 * h / w)), interpolation=cv2.INTER_AREA)\n",
    "\n",

    "    pad_top = (28 - resized.shape[0]) // 2\n",
    "    pad_bottom = 28 - resized.shape[0] - pad_top\n",
    "    pad_left = (28 - resized.shape[1]) // 2\n",
    "    pad_right = 28 - resized.shape[1] - pad_left\n",
    "\n",
    "    padded = cv2.copyMakeBorder(resized, pad_top, pad_bottom, pad_left, pad_right, cv2.BORDER_CONSTANT, value=0)\n",
    "else:\n",

    "    padded = cv2.resize(canvas_gray, (28, 28), interpolation=cv2.INTER_AREA)\n",
    "\n",

    "canvas_inverted = padded\n",
    "\n",

    "canvas_normalized = canvas_inverted / 255.0\n",
    "\n",

    "test_sample = canvas_normalized.reshape(1, -1) \n",
    "\n",

    "predicted_digit = svm_model.predict(test_sample)\n",
    "\n",

    "plt.figure(figsize=(6, 6))\n",
    "plt.imshow(canvas_inverted, cmap='gray')\n",
    "plt.axis('off')\n",
    "plt.title(f\"Predicted Digit: {predicted_digit[0]}\")\n",
    "plt.show()"
   ]
  },
  {
   "cell_type": "code",
   "execution_count": null,
   "id": "2737549a-b581-4fb2-92d0-e4b9a0d91b45",
   "metadata": {},
   "outputs": [],
   "source": []
  }
 ],
 "metadata": {
  "kernelspec": {
   "display_name": "Python 3 (ipykernel)",
   "language": "python",
   "name": "python3"
  },
  "language_info": {
   "codemirror_mode": {
    "name": "ipython",
    "version": 3
   },
   "file_extension": ".py",
   "mimetype": "text/x-python",
   "name": "python",
   "nbconvert_exporter": "python",
   "pygments_lexer": "ipython3",
   "version": "3.12.3"
  }
 },
 "nbformat": 4,
 "nbformat_minor": 5
}
